{
 "cells": [
  {
   "cell_type": "code",
   "execution_count": 1,
   "id": "1a66b778",
   "metadata": {
    "_cell_guid": "b1076dfc-b9ad-4769-8c92-a6c4dae69d19",
    "_uuid": "8f2839f25d086af736a60e9eeb907d3b93b6e0e5",
    "execution": {
     "iopub.execute_input": "2023-04-25T08:21:24.193919Z",
     "iopub.status.busy": "2023-04-25T08:21:24.193477Z",
     "iopub.status.idle": "2023-04-25T08:21:24.211160Z",
     "shell.execute_reply": "2023-04-25T08:21:24.210131Z"
    },
    "papermill": {
     "duration": 0.028731,
     "end_time": "2023-04-25T08:21:24.213626",
     "exception": false,
     "start_time": "2023-04-25T08:21:24.184895",
     "status": "completed"
    },
    "tags": []
   },
   "outputs": [
    {
     "name": "stdout",
     "output_type": "stream",
     "text": [
      "/kaggle/input/datastorm-competition/Data-dictionary.xlsx\n",
      "/kaggle/input/datastorm-competition/Store-info.csv\n",
      "/kaggle/input/datastorm-competition/Testing-data.csv\n",
      "/kaggle/input/datastorm-competition/Historical-transaction-data.csv\n"
     ]
    }
   ],
   "source": [
    "# This Python 3 environment comes with many helpful analytics libraries installed\n",
    "# It is defined by the kaggle/python Docker image: https://github.com/kaggle/docker-python\n",
    "# For example, here's several helpful packages to load\n",
    "\n",
    "import numpy as np # linear algebra\n",
    "import pandas as pd # data processing, CSV file I/O (e.g. pd.read_csv)\n",
    "\n",
    "# Input data files are available in the read-only \"../input/\" directory\n",
    "# For example, running this (by clicking run or pressing Shift+Enter) will list all files under the input directory\n",
    "\n",
    "import os\n",
    "for dirname, _, filenames in os.walk('/kaggle/input'):\n",
    "    for filename in filenames:\n",
    "        print(os.path.join(dirname, filename))\n",
    "\n",
    "# You can write up to 20GB to the current directory (/kaggle/working/) that gets preserved as output when you create a version using \"Save & Run All\" \n",
    "# You can also write temporary files to /kaggle/temp/, but they won't be saved outside of the current session"
   ]
  },
  {
   "cell_type": "code",
   "execution_count": 2,
   "id": "de074bcb",
   "metadata": {
    "execution": {
     "iopub.execute_input": "2023-04-25T08:21:24.226277Z",
     "iopub.status.busy": "2023-04-25T08:21:24.225307Z",
     "iopub.status.idle": "2023-04-25T08:21:25.146430Z",
     "shell.execute_reply": "2023-04-25T08:21:25.145097Z"
    },
    "papermill": {
     "duration": 0.930585,
     "end_time": "2023-04-25T08:21:25.149579",
     "exception": false,
     "start_time": "2023-04-25T08:21:24.218994",
     "status": "completed"
    },
    "tags": []
   },
   "outputs": [],
   "source": [
    "historical_transaction_data = pd.read_csv(\"/kaggle/input/datastorm-competition/Historical-transaction-data.csv\")\n",
    "store_info_data = pd.read_csv(\"/kaggle/input/datastorm-competition/Store-info.csv\")\n",
    "test_df = pd.read_csv(\"/kaggle/input/datastorm-competition/Testing-data.csv\")"
   ]
  },
  {
   "cell_type": "code",
   "execution_count": 3,
   "id": "3b1dcbc7",
   "metadata": {
    "execution": {
     "iopub.execute_input": "2023-04-25T08:21:25.162592Z",
     "iopub.status.busy": "2023-04-25T08:21:25.161426Z",
     "iopub.status.idle": "2023-04-25T08:21:25.191870Z",
     "shell.execute_reply": "2023-04-25T08:21:25.190568Z"
    },
    "papermill": {
     "duration": 0.03962,
     "end_time": "2023-04-25T08:21:25.194412",
     "exception": false,
     "start_time": "2023-04-25T08:21:25.154792",
     "status": "completed"
    },
    "tags": []
   },
   "outputs": [
    {
     "data": {
      "text/html": [
       "<div>\n",
       "<style scoped>\n",
       "    .dataframe tbody tr th:only-of-type {\n",
       "        vertical-align: middle;\n",
       "    }\n",
       "\n",
       "    .dataframe tbody tr th {\n",
       "        vertical-align: top;\n",
       "    }\n",
       "\n",
       "    .dataframe thead th {\n",
       "        text-align: right;\n",
       "    }\n",
       "</style>\n",
       "<table border=\"1\" class=\"dataframe\">\n",
       "  <thead>\n",
       "    <tr style=\"text-align: right;\">\n",
       "      <th></th>\n",
       "      <th>item_description</th>\n",
       "      <th>transaction_date</th>\n",
       "      <th>invoice_id</th>\n",
       "      <th>customer_id</th>\n",
       "      <th>shop_id</th>\n",
       "      <th>item_price</th>\n",
       "      <th>quantity_sold</th>\n",
       "    </tr>\n",
       "  </thead>\n",
       "  <tbody>\n",
       "    <tr>\n",
       "      <th>0</th>\n",
       "      <td>ORANGE BARLEY 1.5L</td>\n",
       "      <td>2021-12-11T00:00:00.000Z</td>\n",
       "      <td>147.0</td>\n",
       "      <td>BGXA</td>\n",
       "      <td>SHOP008</td>\n",
       "      <td>220</td>\n",
       "      <td>2</td>\n",
       "    </tr>\n",
       "    <tr>\n",
       "      <th>1</th>\n",
       "      <td>GINGER BEER 1.5L</td>\n",
       "      <td>2021-10-17T00:00:00.000Z</td>\n",
       "      <td>371.0</td>\n",
       "      <td>IA25</td>\n",
       "      <td>SHOP112</td>\n",
       "      <td>220</td>\n",
       "      <td>2</td>\n",
       "    </tr>\n",
       "    <tr>\n",
       "      <th>2</th>\n",
       "      <td>TONIC PET 500ML</td>\n",
       "      <td>2021-12-13T00:00:00.000Z</td>\n",
       "      <td>484.0</td>\n",
       "      <td>VN7V</td>\n",
       "      <td>SHOP008</td>\n",
       "      <td>160</td>\n",
       "      <td>2</td>\n",
       "    </tr>\n",
       "    <tr>\n",
       "      <th>3</th>\n",
       "      <td>CREAM SODA 1L</td>\n",
       "      <td>2021-12-13T00:00:00.000Z</td>\n",
       "      <td>484.0</td>\n",
       "      <td>VN7V</td>\n",
       "      <td>SHOP008</td>\n",
       "      <td>150</td>\n",
       "      <td>2</td>\n",
       "    </tr>\n",
       "    <tr>\n",
       "      <th>4</th>\n",
       "      <td>STRAWBERRY MILK 180ML</td>\n",
       "      <td>2021-10-23T00:00:00.000Z</td>\n",
       "      <td>1310.0</td>\n",
       "      <td>7S00</td>\n",
       "      <td>SHOP112</td>\n",
       "      <td>210</td>\n",
       "      <td>5</td>\n",
       "    </tr>\n",
       "  </tbody>\n",
       "</table>\n",
       "</div>"
      ],
      "text/plain": [
       "        item_description          transaction_date  invoice_id customer_id  \\\n",
       "0     ORANGE BARLEY 1.5L  2021-12-11T00:00:00.000Z       147.0        BGXA   \n",
       "1       GINGER BEER 1.5L  2021-10-17T00:00:00.000Z       371.0        IA25   \n",
       "2        TONIC PET 500ML  2021-12-13T00:00:00.000Z       484.0        VN7V   \n",
       "3          CREAM SODA 1L  2021-12-13T00:00:00.000Z       484.0        VN7V   \n",
       "4  STRAWBERRY MILK 180ML  2021-10-23T00:00:00.000Z      1310.0        7S00   \n",
       "\n",
       "   shop_id  item_price  quantity_sold  \n",
       "0  SHOP008         220              2  \n",
       "1  SHOP112         220              2  \n",
       "2  SHOP008         160              2  \n",
       "3  SHOP008         150              2  \n",
       "4  SHOP112         210              5  "
      ]
     },
     "execution_count": 3,
     "metadata": {},
     "output_type": "execute_result"
    }
   ],
   "source": [
    "historical_transaction_data.head()"
   ]
  },
  {
   "cell_type": "code",
   "execution_count": 4,
   "id": "5fdb3eea",
   "metadata": {
    "execution": {
     "iopub.execute_input": "2023-04-25T08:21:25.207201Z",
     "iopub.status.busy": "2023-04-25T08:21:25.206491Z",
     "iopub.status.idle": "2023-04-25T08:21:25.214998Z",
     "shell.execute_reply": "2023-04-25T08:21:25.213774Z"
    },
    "papermill": {
     "duration": 0.017959,
     "end_time": "2023-04-25T08:21:25.217813",
     "exception": false,
     "start_time": "2023-04-25T08:21:25.199854",
     "status": "completed"
    },
    "tags": []
   },
   "outputs": [
    {
     "data": {
      "text/plain": [
       "item_description     object\n",
       "transaction_date     object\n",
       "invoice_id          float64\n",
       "customer_id          object\n",
       "shop_id              object\n",
       "item_price            int64\n",
       "quantity_sold         int64\n",
       "dtype: object"
      ]
     },
     "execution_count": 4,
     "metadata": {},
     "output_type": "execute_result"
    }
   ],
   "source": [
    "historical_transaction_data.dtypes"
   ]
  },
  {
   "cell_type": "code",
   "execution_count": 5,
   "id": "15e48c73",
   "metadata": {
    "execution": {
     "iopub.execute_input": "2023-04-25T08:21:25.230667Z",
     "iopub.status.busy": "2023-04-25T08:21:25.229954Z",
     "iopub.status.idle": "2023-04-25T08:21:25.274018Z",
     "shell.execute_reply": "2023-04-25T08:21:25.272834Z"
    },
    "papermill": {
     "duration": 0.053013,
     "end_time": "2023-04-25T08:21:25.276332",
     "exception": false,
     "start_time": "2023-04-25T08:21:25.223319",
     "status": "completed"
    },
    "tags": []
   },
   "outputs": [
    {
     "data": {
      "text/plain": [
       "124"
      ]
     },
     "execution_count": 5,
     "metadata": {},
     "output_type": "execute_result"
    }
   ],
   "source": [
    "historical_transaction_data[\"shop_id\"].nunique()"
   ]
  },
  {
   "cell_type": "markdown",
   "id": "80d27b5a",
   "metadata": {
    "papermill": {
     "duration": 0.005309,
     "end_time": "2023-04-25T08:21:25.287319",
     "exception": false,
     "start_time": "2023-04-25T08:21:25.282010",
     "status": "completed"
    },
    "tags": []
   },
   "source": [
    "# Working with item_description feature"
   ]
  },
  {
   "cell_type": "code",
   "execution_count": 6,
   "id": "44c0af8a",
   "metadata": {
    "execution": {
     "iopub.execute_input": "2023-04-25T08:21:25.300777Z",
     "iopub.status.busy": "2023-04-25T08:21:25.300078Z",
     "iopub.status.idle": "2023-04-25T08:21:25.336276Z",
     "shell.execute_reply": "2023-04-25T08:21:25.335050Z"
    },
    "papermill": {
     "duration": 0.046073,
     "end_time": "2023-04-25T08:21:25.338950",
     "exception": false,
     "start_time": "2023-04-25T08:21:25.292877",
     "status": "completed"
    },
    "tags": []
   },
   "outputs": [
    {
     "data": {
      "text/plain": [
       "array(['ORANGE BARLEY 1.5L', 'GINGER BEER 1.5L', 'TONIC PET 500ML',\n",
       "       'CREAM SODA 1L', 'STRAWBERRY MILK 180ML', 'CREAM SODA 1.5L',\n",
       "       'TWISTEE APPLE 1L', 'FIT O MIXED FRUIT 200ML', 'SODA PET 1.5L',\n",
       "       'FIT O MIXED FRUIT 1L', 'KIK COLA 1L', 'LEMONADE 500ML',\n",
       "       'FIT O ORANGE 1L', 'NECTO 1.5L', 'LEMONADE 1.5L', 'GINGER BEER 1L',\n",
       "       'FIT O MANGO 200ML', 'FIT O MANGO 1L', 'CREAM SODA 500ML',\n",
       "       'FIT O ORANGE 200ML', nan, 'CREAM SODA APPLE POP 1L',\n",
       "       'BOTTLED DRINKING WATER 500ML', 'SODA 500ML', 'GINGER BEER 500ML',\n",
       "       'SODA 1L', 'NECTO 500ML', 'ORANGE CRUSH 500ML',\n",
       "       'BOTTLED DRINKING WATER 1.5L', 'NECTO 1L',\n",
       "       'GINGER BEER SUGAR FREE 500ML', 'ORANGE CRUSH 1.5L',\n",
       "       'DRY GINGER ALE PET 500ML', 'LEMONADE 1L', 'ORANGE CRUSH 1L',\n",
       "       'GINGER BEER 400ML', 'CHOCOLATE MILK 180ML', 'LIME CRUSH JUICE 1L'],\n",
       "      dtype=object)"
      ]
     },
     "execution_count": 6,
     "metadata": {},
     "output_type": "execute_result"
    }
   ],
   "source": [
    "historical_transaction_data[\"item_description\"].unique()"
   ]
  },
  {
   "cell_type": "code",
   "execution_count": 7,
   "id": "1e294d7b",
   "metadata": {
    "execution": {
     "iopub.execute_input": "2023-04-25T08:21:25.352023Z",
     "iopub.status.busy": "2023-04-25T08:21:25.351650Z",
     "iopub.status.idle": "2023-04-25T08:21:25.386748Z",
     "shell.execute_reply": "2023-04-25T08:21:25.385529Z"
    },
    "papermill": {
     "duration": 0.045432,
     "end_time": "2023-04-25T08:21:25.390104",
     "exception": false,
     "start_time": "2023-04-25T08:21:25.344672",
     "status": "completed"
    },
    "tags": []
   },
   "outputs": [
    {
     "data": {
      "text/plain": [
       "37"
      ]
     },
     "execution_count": 7,
     "metadata": {},
     "output_type": "execute_result"
    }
   ],
   "source": [
    "historical_transaction_data[\"item_description\"].nunique()"
   ]
  },
  {
   "cell_type": "code",
   "execution_count": 8,
   "id": "9f5725f6",
   "metadata": {
    "execution": {
     "iopub.execute_input": "2023-04-25T08:21:25.404803Z",
     "iopub.status.busy": "2023-04-25T08:21:25.404263Z",
     "iopub.status.idle": "2023-04-25T08:21:25.442654Z",
     "shell.execute_reply": "2023-04-25T08:21:25.441552Z"
    },
    "papermill": {
     "duration": 0.049267,
     "end_time": "2023-04-25T08:21:25.445546",
     "exception": false,
     "start_time": "2023-04-25T08:21:25.396279",
     "status": "completed"
    },
    "tags": []
   },
   "outputs": [],
   "source": [
    "train_df = historical_transaction_data.copy(deep=True)"
   ]
  },
  {
   "cell_type": "code",
   "execution_count": 9,
   "id": "3b4a08fb",
   "metadata": {
    "execution": {
     "iopub.execute_input": "2023-04-25T08:21:25.459184Z",
     "iopub.status.busy": "2023-04-25T08:21:25.458437Z",
     "iopub.status.idle": "2023-04-25T08:21:25.474139Z",
     "shell.execute_reply": "2023-04-25T08:21:25.473118Z"
    },
    "papermill": {
     "duration": 0.025171,
     "end_time": "2023-04-25T08:21:25.476670",
     "exception": false,
     "start_time": "2023-04-25T08:21:25.451499",
     "status": "completed"
    },
    "tags": []
   },
   "outputs": [
    {
     "data": {
      "text/html": [
       "<div>\n",
       "<style scoped>\n",
       "    .dataframe tbody tr th:only-of-type {\n",
       "        vertical-align: middle;\n",
       "    }\n",
       "\n",
       "    .dataframe tbody tr th {\n",
       "        vertical-align: top;\n",
       "    }\n",
       "\n",
       "    .dataframe thead th {\n",
       "        text-align: right;\n",
       "    }\n",
       "</style>\n",
       "<table border=\"1\" class=\"dataframe\">\n",
       "  <thead>\n",
       "    <tr style=\"text-align: right;\">\n",
       "      <th></th>\n",
       "      <th>item_description</th>\n",
       "      <th>transaction_date</th>\n",
       "      <th>invoice_id</th>\n",
       "      <th>customer_id</th>\n",
       "      <th>shop_id</th>\n",
       "      <th>item_price</th>\n",
       "      <th>quantity_sold</th>\n",
       "    </tr>\n",
       "  </thead>\n",
       "  <tbody>\n",
       "    <tr>\n",
       "      <th>0</th>\n",
       "      <td>ORANGE BARLEY 1.5L</td>\n",
       "      <td>2021-12-11T00:00:00.000Z</td>\n",
       "      <td>147.0</td>\n",
       "      <td>BGXA</td>\n",
       "      <td>SHOP008</td>\n",
       "      <td>220</td>\n",
       "      <td>2</td>\n",
       "    </tr>\n",
       "    <tr>\n",
       "      <th>1</th>\n",
       "      <td>GINGER BEER 1.5L</td>\n",
       "      <td>2021-10-17T00:00:00.000Z</td>\n",
       "      <td>371.0</td>\n",
       "      <td>IA25</td>\n",
       "      <td>SHOP112</td>\n",
       "      <td>220</td>\n",
       "      <td>2</td>\n",
       "    </tr>\n",
       "    <tr>\n",
       "      <th>2</th>\n",
       "      <td>TONIC PET 500ML</td>\n",
       "      <td>2021-12-13T00:00:00.000Z</td>\n",
       "      <td>484.0</td>\n",
       "      <td>VN7V</td>\n",
       "      <td>SHOP008</td>\n",
       "      <td>160</td>\n",
       "      <td>2</td>\n",
       "    </tr>\n",
       "    <tr>\n",
       "      <th>3</th>\n",
       "      <td>CREAM SODA 1L</td>\n",
       "      <td>2021-12-13T00:00:00.000Z</td>\n",
       "      <td>484.0</td>\n",
       "      <td>VN7V</td>\n",
       "      <td>SHOP008</td>\n",
       "      <td>150</td>\n",
       "      <td>2</td>\n",
       "    </tr>\n",
       "    <tr>\n",
       "      <th>4</th>\n",
       "      <td>STRAWBERRY MILK 180ML</td>\n",
       "      <td>2021-10-23T00:00:00.000Z</td>\n",
       "      <td>1310.0</td>\n",
       "      <td>7S00</td>\n",
       "      <td>SHOP112</td>\n",
       "      <td>210</td>\n",
       "      <td>5</td>\n",
       "    </tr>\n",
       "  </tbody>\n",
       "</table>\n",
       "</div>"
      ],
      "text/plain": [
       "        item_description          transaction_date  invoice_id customer_id  \\\n",
       "0     ORANGE BARLEY 1.5L  2021-12-11T00:00:00.000Z       147.0        BGXA   \n",
       "1       GINGER BEER 1.5L  2021-10-17T00:00:00.000Z       371.0        IA25   \n",
       "2        TONIC PET 500ML  2021-12-13T00:00:00.000Z       484.0        VN7V   \n",
       "3          CREAM SODA 1L  2021-12-13T00:00:00.000Z       484.0        VN7V   \n",
       "4  STRAWBERRY MILK 180ML  2021-10-23T00:00:00.000Z      1310.0        7S00   \n",
       "\n",
       "   shop_id  item_price  quantity_sold  \n",
       "0  SHOP008         220              2  \n",
       "1  SHOP112         220              2  \n",
       "2  SHOP008         160              2  \n",
       "3  SHOP008         150              2  \n",
       "4  SHOP112         210              5  "
      ]
     },
     "execution_count": 9,
     "metadata": {},
     "output_type": "execute_result"
    }
   ],
   "source": [
    "train_df.head()"
   ]
  },
  {
   "cell_type": "code",
   "execution_count": 10,
   "id": "525f619e",
   "metadata": {
    "execution": {
     "iopub.execute_input": "2023-04-25T08:21:25.491199Z",
     "iopub.status.busy": "2023-04-25T08:21:25.490039Z",
     "iopub.status.idle": "2023-04-25T08:21:26.886249Z",
     "shell.execute_reply": "2023-04-25T08:21:26.884949Z"
    },
    "papermill": {
     "duration": 1.406205,
     "end_time": "2023-04-25T08:21:26.888958",
     "exception": false,
     "start_time": "2023-04-25T08:21:25.482753",
     "status": "completed"
    },
    "tags": []
   },
   "outputs": [],
   "source": [
    "train_df[['item_name', 'item_quantity']] = train_df['item_description'].str.rsplit(' ', n=1, expand=True)"
   ]
  },
  {
   "cell_type": "code",
   "execution_count": 11,
   "id": "aa92f411",
   "metadata": {
    "execution": {
     "iopub.execute_input": "2023-04-25T08:21:26.905186Z",
     "iopub.status.busy": "2023-04-25T08:21:26.904386Z",
     "iopub.status.idle": "2023-04-25T08:21:26.920281Z",
     "shell.execute_reply": "2023-04-25T08:21:26.919054Z"
    },
    "papermill": {
     "duration": 0.02651,
     "end_time": "2023-04-25T08:21:26.922688",
     "exception": false,
     "start_time": "2023-04-25T08:21:26.896178",
     "status": "completed"
    },
    "tags": []
   },
   "outputs": [
    {
     "data": {
      "text/html": [
       "<div>\n",
       "<style scoped>\n",
       "    .dataframe tbody tr th:only-of-type {\n",
       "        vertical-align: middle;\n",
       "    }\n",
       "\n",
       "    .dataframe tbody tr th {\n",
       "        vertical-align: top;\n",
       "    }\n",
       "\n",
       "    .dataframe thead th {\n",
       "        text-align: right;\n",
       "    }\n",
       "</style>\n",
       "<table border=\"1\" class=\"dataframe\">\n",
       "  <thead>\n",
       "    <tr style=\"text-align: right;\">\n",
       "      <th></th>\n",
       "      <th>item_description</th>\n",
       "      <th>transaction_date</th>\n",
       "      <th>invoice_id</th>\n",
       "      <th>customer_id</th>\n",
       "      <th>shop_id</th>\n",
       "      <th>item_price</th>\n",
       "      <th>quantity_sold</th>\n",
       "      <th>item_name</th>\n",
       "      <th>item_quantity</th>\n",
       "    </tr>\n",
       "  </thead>\n",
       "  <tbody>\n",
       "    <tr>\n",
       "      <th>0</th>\n",
       "      <td>ORANGE BARLEY 1.5L</td>\n",
       "      <td>2021-12-11T00:00:00.000Z</td>\n",
       "      <td>147.0</td>\n",
       "      <td>BGXA</td>\n",
       "      <td>SHOP008</td>\n",
       "      <td>220</td>\n",
       "      <td>2</td>\n",
       "      <td>ORANGE BARLEY</td>\n",
       "      <td>1.5L</td>\n",
       "    </tr>\n",
       "    <tr>\n",
       "      <th>1</th>\n",
       "      <td>GINGER BEER 1.5L</td>\n",
       "      <td>2021-10-17T00:00:00.000Z</td>\n",
       "      <td>371.0</td>\n",
       "      <td>IA25</td>\n",
       "      <td>SHOP112</td>\n",
       "      <td>220</td>\n",
       "      <td>2</td>\n",
       "      <td>GINGER BEER</td>\n",
       "      <td>1.5L</td>\n",
       "    </tr>\n",
       "    <tr>\n",
       "      <th>2</th>\n",
       "      <td>TONIC PET 500ML</td>\n",
       "      <td>2021-12-13T00:00:00.000Z</td>\n",
       "      <td>484.0</td>\n",
       "      <td>VN7V</td>\n",
       "      <td>SHOP008</td>\n",
       "      <td>160</td>\n",
       "      <td>2</td>\n",
       "      <td>TONIC PET</td>\n",
       "      <td>500ML</td>\n",
       "    </tr>\n",
       "    <tr>\n",
       "      <th>3</th>\n",
       "      <td>CREAM SODA 1L</td>\n",
       "      <td>2021-12-13T00:00:00.000Z</td>\n",
       "      <td>484.0</td>\n",
       "      <td>VN7V</td>\n",
       "      <td>SHOP008</td>\n",
       "      <td>150</td>\n",
       "      <td>2</td>\n",
       "      <td>CREAM SODA</td>\n",
       "      <td>1L</td>\n",
       "    </tr>\n",
       "    <tr>\n",
       "      <th>4</th>\n",
       "      <td>STRAWBERRY MILK 180ML</td>\n",
       "      <td>2021-10-23T00:00:00.000Z</td>\n",
       "      <td>1310.0</td>\n",
       "      <td>7S00</td>\n",
       "      <td>SHOP112</td>\n",
       "      <td>210</td>\n",
       "      <td>5</td>\n",
       "      <td>STRAWBERRY MILK</td>\n",
       "      <td>180ML</td>\n",
       "    </tr>\n",
       "  </tbody>\n",
       "</table>\n",
       "</div>"
      ],
      "text/plain": [
       "        item_description          transaction_date  invoice_id customer_id  \\\n",
       "0     ORANGE BARLEY 1.5L  2021-12-11T00:00:00.000Z       147.0        BGXA   \n",
       "1       GINGER BEER 1.5L  2021-10-17T00:00:00.000Z       371.0        IA25   \n",
       "2        TONIC PET 500ML  2021-12-13T00:00:00.000Z       484.0        VN7V   \n",
       "3          CREAM SODA 1L  2021-12-13T00:00:00.000Z       484.0        VN7V   \n",
       "4  STRAWBERRY MILK 180ML  2021-10-23T00:00:00.000Z      1310.0        7S00   \n",
       "\n",
       "   shop_id  item_price  quantity_sold        item_name item_quantity  \n",
       "0  SHOP008         220              2    ORANGE BARLEY          1.5L  \n",
       "1  SHOP112         220              2      GINGER BEER          1.5L  \n",
       "2  SHOP008         160              2        TONIC PET         500ML  \n",
       "3  SHOP008         150              2       CREAM SODA            1L  \n",
       "4  SHOP112         210              5  STRAWBERRY MILK         180ML  "
      ]
     },
     "execution_count": 11,
     "metadata": {},
     "output_type": "execute_result"
    }
   ],
   "source": [
    "train_df.head()"
   ]
  },
  {
   "cell_type": "markdown",
   "id": "63cea3cb",
   "metadata": {
    "papermill": {
     "duration": 0.005967,
     "end_time": "2023-04-25T08:21:26.935076",
     "exception": false,
     "start_time": "2023-04-25T08:21:26.929109",
     "status": "completed"
    },
    "tags": []
   },
   "source": [
    "### Covert the values in the item_quantity to liters"
   ]
  },
  {
   "cell_type": "code",
   "execution_count": 12,
   "id": "fcaf881c",
   "metadata": {
    "execution": {
     "iopub.execute_input": "2023-04-25T08:21:26.950201Z",
     "iopub.status.busy": "2023-04-25T08:21:26.949242Z",
     "iopub.status.idle": "2023-04-25T08:21:26.955092Z",
     "shell.execute_reply": "2023-04-25T08:21:26.954014Z"
    },
    "papermill": {
     "duration": 0.01626,
     "end_time": "2023-04-25T08:21:26.957691",
     "exception": false,
     "start_time": "2023-04-25T08:21:26.941431",
     "status": "completed"
    },
    "tags": []
   },
   "outputs": [],
   "source": [
    "def convert_to_liters(value):\n",
    "    try:\n",
    "        if value[-2:] == \"ML\":\n",
    "            return float(value[:-2])/1000\n",
    "        else:\n",
    "            return float(value[:-1])\n",
    "    except:\n",
    "        return np.NaN"
   ]
  },
  {
   "cell_type": "code",
   "execution_count": 13,
   "id": "edbbc745",
   "metadata": {
    "execution": {
     "iopub.execute_input": "2023-04-25T08:21:26.972775Z",
     "iopub.status.busy": "2023-04-25T08:21:26.971649Z",
     "iopub.status.idle": "2023-04-25T08:21:27.344475Z",
     "shell.execute_reply": "2023-04-25T08:21:27.343023Z"
    },
    "papermill": {
     "duration": 0.383546,
     "end_time": "2023-04-25T08:21:27.347584",
     "exception": false,
     "start_time": "2023-04-25T08:21:26.964038",
     "status": "completed"
    },
    "tags": []
   },
   "outputs": [],
   "source": [
    "train_df['item_quantity_in_liters'] = train_df['item_quantity'].apply(lambda x: convert_to_liters(x))"
   ]
  },
  {
   "cell_type": "code",
   "execution_count": 14,
   "id": "792b2f0e",
   "metadata": {
    "execution": {
     "iopub.execute_input": "2023-04-25T08:21:27.361779Z",
     "iopub.status.busy": "2023-04-25T08:21:27.361348Z",
     "iopub.status.idle": "2023-04-25T08:21:27.369612Z",
     "shell.execute_reply": "2023-04-25T08:21:27.368566Z"
    },
    "papermill": {
     "duration": 0.018091,
     "end_time": "2023-04-25T08:21:27.372014",
     "exception": false,
     "start_time": "2023-04-25T08:21:27.353923",
     "status": "completed"
    },
    "tags": []
   },
   "outputs": [
    {
     "data": {
      "text/plain": [
       "0    1.50\n",
       "1    1.50\n",
       "2    0.50\n",
       "3    1.00\n",
       "4    0.18\n",
       "Name: item_quantity_in_liters, dtype: float64"
      ]
     },
     "execution_count": 14,
     "metadata": {},
     "output_type": "execute_result"
    }
   ],
   "source": [
    "train_df['item_quantity_in_liters'].head()"
   ]
  },
  {
   "cell_type": "markdown",
   "id": "1be5ea21",
   "metadata": {
    "papermill": {
     "duration": 0.006009,
     "end_time": "2023-04-25T08:21:27.384495",
     "exception": false,
     "start_time": "2023-04-25T08:21:27.378486",
     "status": "completed"
    },
    "tags": []
   },
   "source": [
    "### Drop the item_quantity column"
   ]
  },
  {
   "cell_type": "code",
   "execution_count": 15,
   "id": "cb50f15b",
   "metadata": {
    "execution": {
     "iopub.execute_input": "2023-04-25T08:21:27.399280Z",
     "iopub.status.busy": "2023-04-25T08:21:27.398465Z",
     "iopub.status.idle": "2023-04-25T08:21:27.591694Z",
     "shell.execute_reply": "2023-04-25T08:21:27.590333Z"
    },
    "papermill": {
     "duration": 0.203946,
     "end_time": "2023-04-25T08:21:27.594687",
     "exception": false,
     "start_time": "2023-04-25T08:21:27.390741",
     "status": "completed"
    },
    "tags": []
   },
   "outputs": [],
   "source": [
    "train_df.drop(['item_quantity'], axis=1, inplace=True)\n"
   ]
  },
  {
   "cell_type": "code",
   "execution_count": 16,
   "id": "8bcce684",
   "metadata": {
    "execution": {
     "iopub.execute_input": "2023-04-25T08:21:27.610434Z",
     "iopub.status.busy": "2023-04-25T08:21:27.610060Z",
     "iopub.status.idle": "2023-04-25T08:21:27.625727Z",
     "shell.execute_reply": "2023-04-25T08:21:27.624420Z"
    },
    "papermill": {
     "duration": 0.026248,
     "end_time": "2023-04-25T08:21:27.628112",
     "exception": false,
     "start_time": "2023-04-25T08:21:27.601864",
     "status": "completed"
    },
    "tags": []
   },
   "outputs": [
    {
     "data": {
      "text/html": [
       "<div>\n",
       "<style scoped>\n",
       "    .dataframe tbody tr th:only-of-type {\n",
       "        vertical-align: middle;\n",
       "    }\n",
       "\n",
       "    .dataframe tbody tr th {\n",
       "        vertical-align: top;\n",
       "    }\n",
       "\n",
       "    .dataframe thead th {\n",
       "        text-align: right;\n",
       "    }\n",
       "</style>\n",
       "<table border=\"1\" class=\"dataframe\">\n",
       "  <thead>\n",
       "    <tr style=\"text-align: right;\">\n",
       "      <th></th>\n",
       "      <th>item_description</th>\n",
       "      <th>transaction_date</th>\n",
       "      <th>invoice_id</th>\n",
       "      <th>customer_id</th>\n",
       "      <th>shop_id</th>\n",
       "      <th>item_price</th>\n",
       "      <th>quantity_sold</th>\n",
       "      <th>item_name</th>\n",
       "      <th>item_quantity_in_liters</th>\n",
       "    </tr>\n",
       "  </thead>\n",
       "  <tbody>\n",
       "    <tr>\n",
       "      <th>0</th>\n",
       "      <td>ORANGE BARLEY 1.5L</td>\n",
       "      <td>2021-12-11T00:00:00.000Z</td>\n",
       "      <td>147.0</td>\n",
       "      <td>BGXA</td>\n",
       "      <td>SHOP008</td>\n",
       "      <td>220</td>\n",
       "      <td>2</td>\n",
       "      <td>ORANGE BARLEY</td>\n",
       "      <td>1.50</td>\n",
       "    </tr>\n",
       "    <tr>\n",
       "      <th>1</th>\n",
       "      <td>GINGER BEER 1.5L</td>\n",
       "      <td>2021-10-17T00:00:00.000Z</td>\n",
       "      <td>371.0</td>\n",
       "      <td>IA25</td>\n",
       "      <td>SHOP112</td>\n",
       "      <td>220</td>\n",
       "      <td>2</td>\n",
       "      <td>GINGER BEER</td>\n",
       "      <td>1.50</td>\n",
       "    </tr>\n",
       "    <tr>\n",
       "      <th>2</th>\n",
       "      <td>TONIC PET 500ML</td>\n",
       "      <td>2021-12-13T00:00:00.000Z</td>\n",
       "      <td>484.0</td>\n",
       "      <td>VN7V</td>\n",
       "      <td>SHOP008</td>\n",
       "      <td>160</td>\n",
       "      <td>2</td>\n",
       "      <td>TONIC PET</td>\n",
       "      <td>0.50</td>\n",
       "    </tr>\n",
       "    <tr>\n",
       "      <th>3</th>\n",
       "      <td>CREAM SODA 1L</td>\n",
       "      <td>2021-12-13T00:00:00.000Z</td>\n",
       "      <td>484.0</td>\n",
       "      <td>VN7V</td>\n",
       "      <td>SHOP008</td>\n",
       "      <td>150</td>\n",
       "      <td>2</td>\n",
       "      <td>CREAM SODA</td>\n",
       "      <td>1.00</td>\n",
       "    </tr>\n",
       "    <tr>\n",
       "      <th>4</th>\n",
       "      <td>STRAWBERRY MILK 180ML</td>\n",
       "      <td>2021-10-23T00:00:00.000Z</td>\n",
       "      <td>1310.0</td>\n",
       "      <td>7S00</td>\n",
       "      <td>SHOP112</td>\n",
       "      <td>210</td>\n",
       "      <td>5</td>\n",
       "      <td>STRAWBERRY MILK</td>\n",
       "      <td>0.18</td>\n",
       "    </tr>\n",
       "  </tbody>\n",
       "</table>\n",
       "</div>"
      ],
      "text/plain": [
       "        item_description          transaction_date  invoice_id customer_id  \\\n",
       "0     ORANGE BARLEY 1.5L  2021-12-11T00:00:00.000Z       147.0        BGXA   \n",
       "1       GINGER BEER 1.5L  2021-10-17T00:00:00.000Z       371.0        IA25   \n",
       "2        TONIC PET 500ML  2021-12-13T00:00:00.000Z       484.0        VN7V   \n",
       "3          CREAM SODA 1L  2021-12-13T00:00:00.000Z       484.0        VN7V   \n",
       "4  STRAWBERRY MILK 180ML  2021-10-23T00:00:00.000Z      1310.0        7S00   \n",
       "\n",
       "   shop_id  item_price  quantity_sold        item_name  \\\n",
       "0  SHOP008         220              2    ORANGE BARLEY   \n",
       "1  SHOP112         220              2      GINGER BEER   \n",
       "2  SHOP008         160              2        TONIC PET   \n",
       "3  SHOP008         150              2       CREAM SODA   \n",
       "4  SHOP112         210              5  STRAWBERRY MILK   \n",
       "\n",
       "   item_quantity_in_liters  \n",
       "0                     1.50  \n",
       "1                     1.50  \n",
       "2                     0.50  \n",
       "3                     1.00  \n",
       "4                     0.18  "
      ]
     },
     "execution_count": 16,
     "metadata": {},
     "output_type": "execute_result"
    }
   ],
   "source": [
    "train_df.head()"
   ]
  },
  {
   "cell_type": "code",
   "execution_count": null,
   "id": "aeafad3e",
   "metadata": {
    "papermill": {
     "duration": 0.006523,
     "end_time": "2023-04-25T08:21:27.641421",
     "exception": false,
     "start_time": "2023-04-25T08:21:27.634898",
     "status": "completed"
    },
    "tags": []
   },
   "outputs": [],
   "source": []
  }
 ],
 "metadata": {
  "kernelspec": {
   "display_name": "Python 3",
   "language": "python",
   "name": "python3"
  },
  "language_info": {
   "codemirror_mode": {
    "name": "ipython",
    "version": 3
   },
   "file_extension": ".py",
   "mimetype": "text/x-python",
   "name": "python",
   "nbconvert_exporter": "python",
   "pygments_lexer": "ipython3",
   "version": "3.7.12"
  },
  "papermill": {
   "default_parameters": {},
   "duration": 13.938,
   "end_time": "2023-04-25T08:21:28.370222",
   "environment_variables": {},
   "exception": null,
   "input_path": "__notebook__.ipynb",
   "output_path": "__notebook__.ipynb",
   "parameters": {},
   "start_time": "2023-04-25T08:21:14.432222",
   "version": "2.4.0"
  }
 },
 "nbformat": 4,
 "nbformat_minor": 5
}
